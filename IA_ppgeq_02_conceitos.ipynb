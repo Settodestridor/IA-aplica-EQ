{
  "nbformat": 4,
  "nbformat_minor": 0,
  "metadata": {
    "colab": {
      "provenance": [],
      "toc_visible": true,
      "include_colab_link": true
    },
    "kernelspec": {
      "name": "python3",
      "display_name": "Python 3"
    },
    "language_info": {
      "name": "python"
    }
  },
  "cells": [
    {
      "cell_type": "markdown",
      "metadata": {
        "id": "view-in-github",
        "colab_type": "text"
      },
      "source": [
        "<a href=\"https://colab.research.google.com/github/Settodestridor/IA-aplica-EQ/blob/main/IA_ppgeq_02_conceitos.ipynb\" target=\"_parent\"><img src=\"https://colab.research.google.com/assets/colab-badge.svg\" alt=\"Open In Colab\"/></a>"
      ]
    },
    {
      "cell_type": "markdown",
      "source": [
        "# Aspectos Básicos de Classificação\n"
      ],
      "metadata": {
        "id": "5un4f_rcuI8H"
      }
    },
    {
      "cell_type": "markdown",
      "source": [
        "**Objetivo**: Prever uma *classe* (ou rótulo) associado com uma amostra contendo um determinado número de *atributos* conhecidos.\n",
        "\n",
        "**Estratégia**: Utilizar dados contendo a classe de um conjunto de amostras com os respectivos atributos para ajustar os parâmetros (\"treinar\") de um algoritmo de classificação."
      ],
      "metadata": {
        "id": "BOPxLZikB5k5"
      }
    },
    {
      "cell_type": "markdown",
      "source": [
        "#1) Importação dos Dados\n",
        "\n",
        "Inicialmente, deve-se analisar os dados e verificar se existem valores *categóricos* (ou seja, se é necessário aplicar uma etapa de codificação) ou *valores faltantes*\n",
        "\n",
        "\n",
        "**Exemplo:** Classificação de cogumelos em comestíveis/tóxicos de acordo com atributos físicos."
      ],
      "metadata": {
        "id": "HmoOCH_GxL1W"
      }
    },
    {
      "cell_type": "code",
      "execution_count": null,
      "metadata": {
        "colab": {
          "base_uri": "https://localhost:8080/",
          "height": 380
        },
        "id": "UEdh-dmhmbDe",
        "outputId": "11697a90-e196-428a-a90a-b5c85ce3cc21",
        "collapsed": true
      },
      "outputs": [
        {
          "output_type": "execute_result",
          "data": {
            "text/plain": [
              "   cap-diameter  cap-shape  gill-attachment  gill-color  stem-height  \\\n",
              "0           954          2                6          10     1.515569   \n",
              "1           409          6                4           5     0.473925   \n",
              "2           972          6                4           5     0.703855   \n",
              "3           518          6                0           5     0.394346   \n",
              "4           789          6                5           7     0.577379   \n",
              "5           692          2                5          11     1.081859   \n",
              "6          1244          6                5          11     0.699876   \n",
              "7           475          2                5          10     0.553505   \n",
              "8           261          6                0           1     0.736539   \n",
              "9           257          6                4           1     0.828055   \n",
              "\n",
              "   stem-width  stem-color    season  class  \n",
              "0        1144          11  0.888450      1  \n",
              "1         989           6  0.888450      0  \n",
              "2        1699           6  0.943195      0  \n",
              "3         405          11  1.804273      0  \n",
              "4         950           8  1.804273      1  \n",
              "5        1131           7  0.943195      0  \n",
              "6        1636           6  0.888450      1  \n",
              "7         805           6  0.888450      0  \n",
              "8         443           1  0.943195      1  \n",
              "9         924          12  0.943195      0  "
            ],
            "text/html": [
              "\n",
              "  <div id=\"df-61d2a555-2546-460c-82e2-1e351fabaa30\" class=\"colab-df-container\">\n",
              "    <div>\n",
              "<style scoped>\n",
              "    .dataframe tbody tr th:only-of-type {\n",
              "        vertical-align: middle;\n",
              "    }\n",
              "\n",
              "    .dataframe tbody tr th {\n",
              "        vertical-align: top;\n",
              "    }\n",
              "\n",
              "    .dataframe thead th {\n",
              "        text-align: right;\n",
              "    }\n",
              "</style>\n",
              "<table border=\"1\" class=\"dataframe\">\n",
              "  <thead>\n",
              "    <tr style=\"text-align: right;\">\n",
              "      <th></th>\n",
              "      <th>cap-diameter</th>\n",
              "      <th>cap-shape</th>\n",
              "      <th>gill-attachment</th>\n",
              "      <th>gill-color</th>\n",
              "      <th>stem-height</th>\n",
              "      <th>stem-width</th>\n",
              "      <th>stem-color</th>\n",
              "      <th>season</th>\n",
              "      <th>class</th>\n",
              "    </tr>\n",
              "  </thead>\n",
              "  <tbody>\n",
              "    <tr>\n",
              "      <th>0</th>\n",
              "      <td>954</td>\n",
              "      <td>2</td>\n",
              "      <td>6</td>\n",
              "      <td>10</td>\n",
              "      <td>1.515569</td>\n",
              "      <td>1144</td>\n",
              "      <td>11</td>\n",
              "      <td>0.888450</td>\n",
              "      <td>1</td>\n",
              "    </tr>\n",
              "    <tr>\n",
              "      <th>1</th>\n",
              "      <td>409</td>\n",
              "      <td>6</td>\n",
              "      <td>4</td>\n",
              "      <td>5</td>\n",
              "      <td>0.473925</td>\n",
              "      <td>989</td>\n",
              "      <td>6</td>\n",
              "      <td>0.888450</td>\n",
              "      <td>0</td>\n",
              "    </tr>\n",
              "    <tr>\n",
              "      <th>2</th>\n",
              "      <td>972</td>\n",
              "      <td>6</td>\n",
              "      <td>4</td>\n",
              "      <td>5</td>\n",
              "      <td>0.703855</td>\n",
              "      <td>1699</td>\n",
              "      <td>6</td>\n",
              "      <td>0.943195</td>\n",
              "      <td>0</td>\n",
              "    </tr>\n",
              "    <tr>\n",
              "      <th>3</th>\n",
              "      <td>518</td>\n",
              "      <td>6</td>\n",
              "      <td>0</td>\n",
              "      <td>5</td>\n",
              "      <td>0.394346</td>\n",
              "      <td>405</td>\n",
              "      <td>11</td>\n",
              "      <td>1.804273</td>\n",
              "      <td>0</td>\n",
              "    </tr>\n",
              "    <tr>\n",
              "      <th>4</th>\n",
              "      <td>789</td>\n",
              "      <td>6</td>\n",
              "      <td>5</td>\n",
              "      <td>7</td>\n",
              "      <td>0.577379</td>\n",
              "      <td>950</td>\n",
              "      <td>8</td>\n",
              "      <td>1.804273</td>\n",
              "      <td>1</td>\n",
              "    </tr>\n",
              "    <tr>\n",
              "      <th>5</th>\n",
              "      <td>692</td>\n",
              "      <td>2</td>\n",
              "      <td>5</td>\n",
              "      <td>11</td>\n",
              "      <td>1.081859</td>\n",
              "      <td>1131</td>\n",
              "      <td>7</td>\n",
              "      <td>0.943195</td>\n",
              "      <td>0</td>\n",
              "    </tr>\n",
              "    <tr>\n",
              "      <th>6</th>\n",
              "      <td>1244</td>\n",
              "      <td>6</td>\n",
              "      <td>5</td>\n",
              "      <td>11</td>\n",
              "      <td>0.699876</td>\n",
              "      <td>1636</td>\n",
              "      <td>6</td>\n",
              "      <td>0.888450</td>\n",
              "      <td>1</td>\n",
              "    </tr>\n",
              "    <tr>\n",
              "      <th>7</th>\n",
              "      <td>475</td>\n",
              "      <td>2</td>\n",
              "      <td>5</td>\n",
              "      <td>10</td>\n",
              "      <td>0.553505</td>\n",
              "      <td>805</td>\n",
              "      <td>6</td>\n",
              "      <td>0.888450</td>\n",
              "      <td>0</td>\n",
              "    </tr>\n",
              "    <tr>\n",
              "      <th>8</th>\n",
              "      <td>261</td>\n",
              "      <td>6</td>\n",
              "      <td>0</td>\n",
              "      <td>1</td>\n",
              "      <td>0.736539</td>\n",
              "      <td>443</td>\n",
              "      <td>1</td>\n",
              "      <td>0.943195</td>\n",
              "      <td>1</td>\n",
              "    </tr>\n",
              "    <tr>\n",
              "      <th>9</th>\n",
              "      <td>257</td>\n",
              "      <td>6</td>\n",
              "      <td>4</td>\n",
              "      <td>1</td>\n",
              "      <td>0.828055</td>\n",
              "      <td>924</td>\n",
              "      <td>12</td>\n",
              "      <td>0.943195</td>\n",
              "      <td>0</td>\n",
              "    </tr>\n",
              "  </tbody>\n",
              "</table>\n",
              "</div>\n",
              "    <div class=\"colab-df-buttons\">\n",
              "\n",
              "  <div class=\"colab-df-container\">\n",
              "    <button class=\"colab-df-convert\" onclick=\"convertToInteractive('df-61d2a555-2546-460c-82e2-1e351fabaa30')\"\n",
              "            title=\"Convert this dataframe to an interactive table.\"\n",
              "            style=\"display:none;\">\n",
              "\n",
              "  <svg xmlns=\"http://www.w3.org/2000/svg\" height=\"24px\" viewBox=\"0 -960 960 960\">\n",
              "    <path d=\"M120-120v-720h720v720H120Zm60-500h600v-160H180v160Zm220 220h160v-160H400v160Zm0 220h160v-160H400v160ZM180-400h160v-160H180v160Zm440 0h160v-160H620v160ZM180-180h160v-160H180v160Zm440 0h160v-160H620v160Z\"/>\n",
              "  </svg>\n",
              "    </button>\n",
              "\n",
              "  <style>\n",
              "    .colab-df-container {\n",
              "      display:flex;\n",
              "      gap: 12px;\n",
              "    }\n",
              "\n",
              "    .colab-df-convert {\n",
              "      background-color: #E8F0FE;\n",
              "      border: none;\n",
              "      border-radius: 50%;\n",
              "      cursor: pointer;\n",
              "      display: none;\n",
              "      fill: #1967D2;\n",
              "      height: 32px;\n",
              "      padding: 0 0 0 0;\n",
              "      width: 32px;\n",
              "    }\n",
              "\n",
              "    .colab-df-convert:hover {\n",
              "      background-color: #E2EBFA;\n",
              "      box-shadow: 0px 1px 2px rgba(60, 64, 67, 0.3), 0px 1px 3px 1px rgba(60, 64, 67, 0.15);\n",
              "      fill: #174EA6;\n",
              "    }\n",
              "\n",
              "    .colab-df-buttons div {\n",
              "      margin-bottom: 4px;\n",
              "    }\n",
              "\n",
              "    [theme=dark] .colab-df-convert {\n",
              "      background-color: #3B4455;\n",
              "      fill: #D2E3FC;\n",
              "    }\n",
              "\n",
              "    [theme=dark] .colab-df-convert:hover {\n",
              "      background-color: #434B5C;\n",
              "      box-shadow: 0px 1px 3px 1px rgba(0, 0, 0, 0.15);\n",
              "      filter: drop-shadow(0px 1px 2px rgba(0, 0, 0, 0.3));\n",
              "      fill: #FFFFFF;\n",
              "    }\n",
              "  </style>\n",
              "\n",
              "    <script>\n",
              "      const buttonEl =\n",
              "        document.querySelector('#df-61d2a555-2546-460c-82e2-1e351fabaa30 button.colab-df-convert');\n",
              "      buttonEl.style.display =\n",
              "        google.colab.kernel.accessAllowed ? 'block' : 'none';\n",
              "\n",
              "      async function convertToInteractive(key) {\n",
              "        const element = document.querySelector('#df-61d2a555-2546-460c-82e2-1e351fabaa30');\n",
              "        const dataTable =\n",
              "          await google.colab.kernel.invokeFunction('convertToInteractive',\n",
              "                                                    [key], {});\n",
              "        if (!dataTable) return;\n",
              "\n",
              "        const docLinkHtml = 'Like what you see? Visit the ' +\n",
              "          '<a target=\"_blank\" href=https://colab.research.google.com/notebooks/data_table.ipynb>data table notebook</a>'\n",
              "          + ' to learn more about interactive tables.';\n",
              "        element.innerHTML = '';\n",
              "        dataTable['output_type'] = 'display_data';\n",
              "        await google.colab.output.renderOutput(dataTable, element);\n",
              "        const docLink = document.createElement('div');\n",
              "        docLink.innerHTML = docLinkHtml;\n",
              "        element.appendChild(docLink);\n",
              "      }\n",
              "    </script>\n",
              "  </div>\n",
              "\n",
              "\n",
              "    <div id=\"df-f198cd54-fd77-45e6-8939-c23422682dda\">\n",
              "      <button class=\"colab-df-quickchart\" onclick=\"quickchart('df-f198cd54-fd77-45e6-8939-c23422682dda')\"\n",
              "                title=\"Suggest charts\"\n",
              "                style=\"display:none;\">\n",
              "\n",
              "<svg xmlns=\"http://www.w3.org/2000/svg\" height=\"24px\"viewBox=\"0 0 24 24\"\n",
              "     width=\"24px\">\n",
              "    <g>\n",
              "        <path d=\"M19 3H5c-1.1 0-2 .9-2 2v14c0 1.1.9 2 2 2h14c1.1 0 2-.9 2-2V5c0-1.1-.9-2-2-2zM9 17H7v-7h2v7zm4 0h-2V7h2v10zm4 0h-2v-4h2v4z\"/>\n",
              "    </g>\n",
              "</svg>\n",
              "      </button>\n",
              "\n",
              "<style>\n",
              "  .colab-df-quickchart {\n",
              "      --bg-color: #E8F0FE;\n",
              "      --fill-color: #1967D2;\n",
              "      --hover-bg-color: #E2EBFA;\n",
              "      --hover-fill-color: #174EA6;\n",
              "      --disabled-fill-color: #AAA;\n",
              "      --disabled-bg-color: #DDD;\n",
              "  }\n",
              "\n",
              "  [theme=dark] .colab-df-quickchart {\n",
              "      --bg-color: #3B4455;\n",
              "      --fill-color: #D2E3FC;\n",
              "      --hover-bg-color: #434B5C;\n",
              "      --hover-fill-color: #FFFFFF;\n",
              "      --disabled-bg-color: #3B4455;\n",
              "      --disabled-fill-color: #666;\n",
              "  }\n",
              "\n",
              "  .colab-df-quickchart {\n",
              "    background-color: var(--bg-color);\n",
              "    border: none;\n",
              "    border-radius: 50%;\n",
              "    cursor: pointer;\n",
              "    display: none;\n",
              "    fill: var(--fill-color);\n",
              "    height: 32px;\n",
              "    padding: 0;\n",
              "    width: 32px;\n",
              "  }\n",
              "\n",
              "  .colab-df-quickchart:hover {\n",
              "    background-color: var(--hover-bg-color);\n",
              "    box-shadow: 0 1px 2px rgba(60, 64, 67, 0.3), 0 1px 3px 1px rgba(60, 64, 67, 0.15);\n",
              "    fill: var(--button-hover-fill-color);\n",
              "  }\n",
              "\n",
              "  .colab-df-quickchart-complete:disabled,\n",
              "  .colab-df-quickchart-complete:disabled:hover {\n",
              "    background-color: var(--disabled-bg-color);\n",
              "    fill: var(--disabled-fill-color);\n",
              "    box-shadow: none;\n",
              "  }\n",
              "\n",
              "  .colab-df-spinner {\n",
              "    border: 2px solid var(--fill-color);\n",
              "    border-color: transparent;\n",
              "    border-bottom-color: var(--fill-color);\n",
              "    animation:\n",
              "      spin 1s steps(1) infinite;\n",
              "  }\n",
              "\n",
              "  @keyframes spin {\n",
              "    0% {\n",
              "      border-color: transparent;\n",
              "      border-bottom-color: var(--fill-color);\n",
              "      border-left-color: var(--fill-color);\n",
              "    }\n",
              "    20% {\n",
              "      border-color: transparent;\n",
              "      border-left-color: var(--fill-color);\n",
              "      border-top-color: var(--fill-color);\n",
              "    }\n",
              "    30% {\n",
              "      border-color: transparent;\n",
              "      border-left-color: var(--fill-color);\n",
              "      border-top-color: var(--fill-color);\n",
              "      border-right-color: var(--fill-color);\n",
              "    }\n",
              "    40% {\n",
              "      border-color: transparent;\n",
              "      border-right-color: var(--fill-color);\n",
              "      border-top-color: var(--fill-color);\n",
              "    }\n",
              "    60% {\n",
              "      border-color: transparent;\n",
              "      border-right-color: var(--fill-color);\n",
              "    }\n",
              "    80% {\n",
              "      border-color: transparent;\n",
              "      border-right-color: var(--fill-color);\n",
              "      border-bottom-color: var(--fill-color);\n",
              "    }\n",
              "    90% {\n",
              "      border-color: transparent;\n",
              "      border-bottom-color: var(--fill-color);\n",
              "    }\n",
              "  }\n",
              "</style>\n",
              "\n",
              "      <script>\n",
              "        async function quickchart(key) {\n",
              "          const quickchartButtonEl =\n",
              "            document.querySelector('#' + key + ' button');\n",
              "          quickchartButtonEl.disabled = true;  // To prevent multiple clicks.\n",
              "          quickchartButtonEl.classList.add('colab-df-spinner');\n",
              "          try {\n",
              "            const charts = await google.colab.kernel.invokeFunction(\n",
              "                'suggestCharts', [key], {});\n",
              "          } catch (error) {\n",
              "            console.error('Error during call to suggestCharts:', error);\n",
              "          }\n",
              "          quickchartButtonEl.classList.remove('colab-df-spinner');\n",
              "          quickchartButtonEl.classList.add('colab-df-quickchart-complete');\n",
              "        }\n",
              "        (() => {\n",
              "          let quickchartButtonEl =\n",
              "            document.querySelector('#df-f198cd54-fd77-45e6-8939-c23422682dda button');\n",
              "          quickchartButtonEl.style.display =\n",
              "            google.colab.kernel.accessAllowed ? 'block' : 'none';\n",
              "        })();\n",
              "      </script>\n",
              "    </div>\n",
              "\n",
              "    </div>\n",
              "  </div>\n"
            ],
            "application/vnd.google.colaboratory.intrinsic+json": {
              "type": "dataframe",
              "variable_name": "df",
              "summary": "{\n  \"name\": \"df\",\n  \"rows\": 5000,\n  \"fields\": [\n    {\n      \"column\": \"cap-diameter\",\n      \"properties\": {\n        \"dtype\": \"number\",\n        \"std\": 359,\n        \"min\": 7,\n        \"max\": 1890,\n        \"num_unique_values\": 1331,\n        \"samples\": [\n          1802,\n          248,\n          20\n        ],\n        \"semantic_type\": \"\",\n        \"description\": \"\"\n      }\n    },\n    {\n      \"column\": \"cap-shape\",\n      \"properties\": {\n        \"dtype\": \"number\",\n        \"std\": 2,\n        \"min\": 0,\n        \"max\": 6,\n        \"num_unique_values\": 7,\n        \"samples\": [\n          2,\n          6,\n          4\n        ],\n        \"semantic_type\": \"\",\n        \"description\": \"\"\n      }\n    },\n    {\n      \"column\": \"gill-attachment\",\n      \"properties\": {\n        \"dtype\": \"number\",\n        \"std\": 2,\n        \"min\": 0,\n        \"max\": 6,\n        \"num_unique_values\": 7,\n        \"samples\": [\n          6,\n          4,\n          3\n        ],\n        \"semantic_type\": \"\",\n        \"description\": \"\"\n      }\n    },\n    {\n      \"column\": \"gill-color\",\n      \"properties\": {\n        \"dtype\": \"number\",\n        \"std\": 3,\n        \"min\": 0,\n        \"max\": 11,\n        \"num_unique_values\": 12,\n        \"samples\": [\n          4,\n          9,\n          10\n        ],\n        \"semantic_type\": \"\",\n        \"description\": \"\"\n      }\n    },\n    {\n      \"column\": \"stem-height\",\n      \"properties\": {\n        \"dtype\": \"number\",\n        \"std\": 0.6711649289066639,\n        \"min\": 0.000425697,\n        \"max\": 3.811445743,\n        \"num_unique_values\": 1077,\n        \"samples\": [\n          0.322723804,\n          0.374450661,\n          2.46256848\n        ],\n        \"semantic_type\": \"\",\n        \"description\": \"\"\n      }\n    },\n    {\n      \"column\": \"stem-width\",\n      \"properties\": {\n        \"dtype\": \"number\",\n        \"std\": 785,\n        \"min\": 0,\n        \"max\": 3566,\n        \"num_unique_values\": 2153,\n        \"samples\": [\n          3237,\n          2291,\n          1610\n        ],\n        \"semantic_type\": \"\",\n        \"description\": \"\"\n      }\n    },\n    {\n      \"column\": \"stem-color\",\n      \"properties\": {\n        \"dtype\": \"number\",\n        \"std\": 3,\n        \"min\": 0,\n        \"max\": 12,\n        \"num_unique_values\": 13,\n        \"samples\": [\n          0,\n          4,\n          11\n        ],\n        \"semantic_type\": \"\",\n        \"description\": \"\"\n      }\n    },\n    {\n      \"column\": \"season\",\n      \"properties\": {\n        \"dtype\": \"number\",\n        \"std\": 0.30791157403679464,\n        \"min\": 0.027372133,\n        \"max\": 1.804272709,\n        \"num_unique_values\": 4,\n        \"samples\": [\n          0.943194554,\n          0.027372133,\n          0.888450288\n        ],\n        \"semantic_type\": \"\",\n        \"description\": \"\"\n      }\n    },\n    {\n      \"column\": \"class\",\n      \"properties\": {\n        \"dtype\": \"number\",\n        \"std\": 0,\n        \"min\": 0,\n        \"max\": 1,\n        \"num_unique_values\": 2,\n        \"samples\": [\n          0,\n          1\n        ],\n        \"semantic_type\": \"\",\n        \"description\": \"\"\n      }\n    }\n  ]\n}"
            }
          },
          "metadata": {},
          "execution_count": 1
        }
      ],
      "source": [
        "import pandas as pd #Importando a biblioteca pandas (manipulação de dados)\n",
        "\n",
        "#url = 'https://drive.google.com/uc?id=133OqgqL7kRtBWNP01hzDFD2eRC5abV-H' #link para o arquivo de dados no Google Drive\n",
        "url= 'https://drive.google.com/uc?id=133OqgqL7kRtBWNP01hzDFD2eRC5abV-H'\n",
        "#Esta é uma versão reduzida do dataset disponível em https://www.kaggle.com/datasets/prishasawhney/mushroom-dataset\n",
        "\n",
        "df = pd.read_csv(url) #Lendo o arquivo com dados e alocando na variável 'df' (DataFrame)\n",
        "df.head(10) #Imprime as primeiras linhas"
      ]
    },
    {
      "cell_type": "markdown",
      "source": [
        "Analisando o arquivo, vemos que existem os seguintes dados:\n",
        "\n",
        "- 8 atributos de entrada, todos numéricos\n",
        "\n",
        "- 1 rótulo de saída, binário (0 = comestível, 1 = tóxico)\n",
        "\n",
        "Agora, podemos verificar se existem dados faltantes:"
      ],
      "metadata": {
        "id": "qdyiHnASckll"
      }
    },
    {
      "cell_type": "code",
      "source": [
        "#Verificando se existem dados faltantes\n",
        "df.info()"
      ],
      "metadata": {
        "collapsed": true,
        "id": "usaJk6mBcPNI",
        "colab": {
          "base_uri": "https://localhost:8080/"
        },
        "outputId": "c8b92ede-8d33-4519-a347-970025454d7a"
      },
      "execution_count": null,
      "outputs": [
        {
          "output_type": "stream",
          "name": "stdout",
          "text": [
            "<class 'pandas.core.frame.DataFrame'>\n",
            "RangeIndex: 5000 entries, 0 to 4999\n",
            "Data columns (total 9 columns):\n",
            " #   Column           Non-Null Count  Dtype  \n",
            "---  ------           --------------  -----  \n",
            " 0   cap-diameter     5000 non-null   int64  \n",
            " 1   cap-shape        5000 non-null   int64  \n",
            " 2   gill-attachment  5000 non-null   int64  \n",
            " 3   gill-color       5000 non-null   int64  \n",
            " 4   stem-height      5000 non-null   float64\n",
            " 5   stem-width       5000 non-null   int64  \n",
            " 6   stem-color       5000 non-null   int64  \n",
            " 7   season           5000 non-null   float64\n",
            " 8   class            5000 non-null   int64  \n",
            "dtypes: float64(2), int64(7)\n",
            "memory usage: 351.7 KB\n"
          ]
        }
      ]
    },
    {
      "cell_type": "markdown",
      "source": [
        "Como não existem dados faltantes, podemos passar para a próxima etapa.\n",
        "\n",
        "De modo geral, os algoritmos de classificação trabalham com os dados armazenados da seguinte forma:\n",
        "\n",
        "- Uma matriz **X**, com dimensão *m × n*, contendo os atributos de entrada, onde *m* é o número de amostras no dataset e *n* o número de atributos\n",
        "\n",
        "- Um vetor **y** com dimensão *m* contendo o rótulo de cada amostra.\n"
      ],
      "metadata": {
        "id": "Ju-MSH9_cPiB"
      }
    },
    {
      "cell_type": "code",
      "source": [
        "#Armazendo uma matriz X com todos os atributos de entrada\n",
        "X = df.iloc[:,0:8]#não inclui a 8\n",
        "\n",
        "#Armazendo um vetor y com os rótulos de saída\n",
        "y = df.iloc[:,8]\n",
        "\n",
        "#Transformando os dados anteriores em variáveis do tipo \"array\" para permitir manipulação numérica\n",
        "X_array = X.values\n",
        "y_array = y.values\n",
        "#print(X_array)\n",
        "#print(y_array)\n"
      ],
      "metadata": {
        "collapsed": true,
        "id": "grqU17Qx1533"
      },
      "execution_count": null,
      "outputs": []
    },
    {
      "cell_type": "markdown",
      "source": [
        "#2) Visualizando os dados\n",
        "\n",
        "Antes de avançar com o código, pode ser interessante contruir alguns gráficos para visualizar os dados, permitindo uma análise prévia dos resultados. Algumas informações que podem ser relevantes:\n",
        "\n",
        "1) Existe uma fronteira de separação nítida entre as classes? Se existir, essa fronteira é linear?\n",
        "\n",
        "2) Os valores dos atributos estão homogeneamente distribuídas ou estão concentradas em faixas de valores específicas?\n",
        "\n",
        "3) A distribuição das amostras nas diferentes classes é homogênea ou existe a predominância de uma classe?"
      ],
      "metadata": {
        "id": "kjn7A5C_n4xE"
      }
    },
    {
      "cell_type": "code",
      "source": [
        "#Construindo um gráfico de dispersão para visualizar os pontos\n",
        "#Plotar uma variável em função da outra e indicar qual classe de cada ponto\n",
        "import matplotlib.pyplot as plt #Biblioteca gráfica\n",
        "var1 = 2  #Escolhendo um dos atributos a serem graficados (entre 0 e 7) - eixo x\n",
        "var2 = 6 #Escolhendo o outro atributoa a ser graficado (entre 0 e 7) - eixo y\n",
        "plt.scatter(X_array[y_array == 0, var1], X_array[y_array == 0, var2], c='blue', s=20, label='0 - comestível') #Fazendo o gráfico e atribuindo a cor azul se y=0\n",
        "#Argumentos: 1a posição - eixo x, 2a posição - eixo y, c = cor, s = tamanho, label = legenda\n",
        "plt.scatter(X_array[y_array == 1, var1], X_array[y_array == 1, var2], c='red', s=20, label='1 - tóxico') #Fazendo o gráfico e atribuindo a cor vermelho se y=1\n",
        "plt.xlabel(X.columns[var1]) #Nomeando o eixo x de acordo com os nomes definidos na tabela de dados\n",
        "plt.ylabel(X.columns[var2]) #Nomeando o eixo y de acordo com os nomes definidos na tabela de dados\n",
        "plt.legend() #Mostrar legenda\n",
        "plt.show() #Mostrar gráfico"
      ],
      "metadata": {
        "colab": {
          "base_uri": "https://localhost:8080/",
          "height": 449
        },
        "collapsed": true,
        "id": "Dfj9uW-2nrhe",
        "outputId": "aa092bc4-7638-4c16-8eb8-fbdb5d0a9e95"
      },
      "execution_count": null,
      "outputs": [
        {
          "output_type": "display_data",
          "data": {
            "text/plain": [
              "<Figure size 640x480 with 1 Axes>"
            ],
            "image/png": "[encoded data removed]"
          },
          "metadata": {}
        }
      ]
    },
    {
      "cell_type": "code",
      "source": [
        "#Gráficos de histogramas: Informam a distribuição do número de amostras de acordo com a classe/atributos\n",
        "#plt.hist(y_array) #Distribuição de amostras por classe\n",
        "var3 = 6 #Escolhendo um dos atributos a serem graficados (entre 0 e 7)\n",
        "plt.hist(X_array[:,var3]);#Distribuição de acordo com o atributo na posição var3\n",
        "plt.xlabel(X.columns[var3]) #Nomeando o eixo x de acordo com os nomes definidos na tabela de dados\n",
        "plt.show() #Mostrar gráfico\n"
      ],
      "metadata": {
        "colab": {
          "base_uri": "https://localhost:8080/",
          "height": 449
        },
        "collapsed": true,
        "id": "GV46a-Ud7umH",
        "outputId": "aadea0ef-138f-4dea-8c86-9e73fe437ab2"
      },
      "execution_count": null,
      "outputs": [
        {
          "output_type": "display_data",
          "data": {
            "text/plain": [
              "<Figure size 640x480 with 1 Axes>"
            ],
            "image/png": "[encoded data removed]"
          },
          "metadata": {}
        }
      ]
    },
    {
      "cell_type": "markdown",
      "source": [
        "#3) Normalização dos Dados\n",
        "\n",
        "Mesmo os dados estando na forma numérica e sem dados faltantes, existe um outro potencial problema: eles possuem escalas de valores muito distinas. Isto pode levar a dificuldades numéricas!\n",
        "\n",
        "Para resolver este problema, podemos **normalizar** os dados para deixar todos eles em uma escala específica, por exemplo, entre 0 e 1."
      ],
      "metadata": {
        "id": "8nj-UInCemWj"
      }
    },
    {
      "cell_type": "code",
      "source": [
        "#Utilizando a função MinMaxScaler para normalizar os dados\n",
        "from sklearn.preprocessing import MinMaxScaler\n",
        "scaler = MinMaxScaler(feature_range = (0,1)) #definindo o intervalo entre 0 e 1\n",
        "X_array_norm = scaler.fit_transform(X_array) #Normalizando os dados da matriz X e alocando em uma nova variável\n",
        "#Os dados do vetor y já estão na escala correta!\n",
        "print(X_array_norm)"
      ],
      "metadata": {
        "id": "AHWppeSK5ylA",
        "colab": {
          "base_uri": "https://localhost:8080/"
        },
        "outputId": "154d7a7b-3758-4b5e-b77c-ddf2f216775c"
      },
      "execution_count": null,
      "outputs": [
        {
          "output_type": "stream",
          "name": "stdout",
          "text": [
            "[[0.50292087 0.33333333 1.         ... 0.32080763 0.91666667 0.48459557]\n",
            " [0.21348911 1.         0.66666667 ... 0.27734156 0.5        0.48459557]\n",
            " [0.51248008 1.         0.66666667 ... 0.4764442  0.5        0.51540443]\n",
            " ...\n",
            " [0.23844928 1.         0.66666667 ... 0.31015143 0.5        0.51540443]\n",
            " [0.39245884 1.         1.         ... 0.43438026 0.91666667 0.51540443]\n",
            " [0.64630908 1.         1.         ... 0.54234436 0.91666667 0.48459557]]\n"
          ]
        }
      ]
    },
    {
      "cell_type": "markdown",
      "source": [
        "#4) Grupos de Teste e de Treinamento"
      ],
      "metadata": {
        "id": "bHPkcrLe9yuM"
      }
    },
    {
      "cell_type": "markdown",
      "source": [
        "Uma questão fundamental em aprendizagem de máquina é:\n",
        "\n",
        "1) Qual a capacidade do modelo fazer previsões da classe de novas amostras?\n",
        "\n",
        "2) Considerando as amostras classificadas de forma incorreta, existe alguma tendência nesse erro?\n",
        "\n",
        "Para responder estas perguntas, precisamos testar o algoritmo após os parâmetros terem sido ajustados. Porém, se usarmos os mesmos dados para ajustar os parâmetros e para testá-lo, a resposta será altamente enviesada.\n",
        "\n",
        "\n",
        "\n",
        "---\n",
        "\n",
        "\n",
        "\n",
        "**Solução**: Ajustar o algoritmo usando parte dos dados e deixar outra parte 'reservada' para testar o desempenho.\n",
        "\n",
        "\n",
        "\n",
        "---\n",
        "\n",
        "\n",
        "\n",
        "Com base no conjunto de dados originais, vamos criar dois subconjuntos:\n",
        "\n",
        "1) **Conjunto de treinamento** (~80% das amostras): utilizado para o ajuste dos parâmetros do modelo;\n",
        "\n",
        "2) **Conjunto de teste** (~20% das amostras): utilizado para testar o modelo. Estes dados não devem ser utilizados durante as demais etapas!\n",
        "\n",
        "\n",
        "Além disso, em muitos casos pode ser conveniente definir um terceiro subconjunto:\n",
        "\n",
        "3) **Conjunto de validação** (10 - 15% das amostras): utilizado para comparar o desempenho de diferentes algoritmos e para auxiliar na escolha de parâmetros do algoritmo.\n",
        "\n",
        "\n",
        "\n",
        "\n"
      ],
      "metadata": {
        "id": "QI7CVzAV_OsW"
      }
    },
    {
      "cell_type": "code",
      "source": [
        "#Dividindo os dados em teste/treinamento usando a função train_test_split\n",
        "from sklearn.model_selection import train_test_split\n",
        "test_group_size = 0.2 #Fração dos dados no grupo de teste\n",
        "seed = 667 #número aleatório utilizado como semente para o algoritmo de divisão. Manter esse valor fixo garante que a divisão será sempre igual\n",
        "X_train, X_test, y_train, y_test = train_test_split(X_array_norm, y_array, test_size=test_group_size, random_state=seed)\n",
        "#Obs.: Se for desejado criar mais um grupo de validação, pode-se repetir a operação dividindo o grupo de treino em dois grupos (validação/treino)\n",
        "print(X_train.shape)\n",
        "print(X_test.shape)"
      ],
      "metadata": {
        "id": "Lt5zze9M2YTs",
        "colab": {
          "base_uri": "https://localhost:8080/"
        },
        "outputId": "9b526b6c-2d8e-4587-a612-2f2b9dfc2233"
      },
      "execution_count": null,
      "outputs": [
        {
          "output_type": "stream",
          "name": "stdout",
          "text": [
            "(4000, 8)\n",
            "(1000, 8)\n"
          ]
        }
      ]
    },
    {
      "cell_type": "markdown",
      "source": [
        "#5) Treinamento do Algoritmo de Classificação\n",
        "\n",
        "Com os dados separados, podemos agora ajustar o algoritmo usando os dados de treino. Após, podemos utilizar os atributos de entrada dos dados no conjunto de teste e determinar a classe prevista para essas amostra.\n",
        "\n",
        "Posteriormente, a diferença entre essas classes previstas e as classes reais será utilizada para avaliar o desempenho do algoritmo.\n",
        "\n",
        "**Obs.:** Por enquanto, não iremos focar nos diferentes algoritmos de classificação. Para ilustrar, será utilizado o KNN."
      ],
      "metadata": {
        "id": "FZAVI89NTwKW"
      }
    },
    {
      "cell_type": "code",
      "source": [
        "#Importando o classificador KNN\n",
        "from sklearn.neighbors import KNeighborsClassifier\n",
        "model = KNeighborsClassifier(n_neighbors = 5) #criando uma variável para armazenar o modelo e definindo o número de vizinhos igual a 5\n",
        "clf = model.fit(X_train,y_train) #ajustando o modelo com base nos dados de treinamento\n",
        "predictions = model.predict(X_test) #prevendo a classe de cada amostra no conjunto de teste\n",
        "print(predictions - y_test) #subtraindo o valor previsto do real - 0 = previsão correta, 1 ou -1 = previsão errada\n"
      ],
      "metadata": {
        "id": "FPU11QG847Eb",
        "collapsed": true,
        "colab": {
          "base_uri": "https://localhost:8080/"
        },
        "outputId": "7532ca10-fb3e-4a23-88ea-31f5e4f751f1"
      },
      "execution_count": null,
      "outputs": [
        {
          "output_type": "stream",
          "name": "stdout",
          "text": [
            "[ 0  0  0  0  0  0  0  0  0  0  0  0  0  0  0  0  0  0  0  0  0 -1  0 -1\n",
            "  0  0  0  0  0  0  0  0  0  0  0  0  0  0  0  0  0  1  0  0  0  0  0  0\n",
            "  0  1  0  0  0  0  0  0  0  0  0  0  0  0  0  0  0  0  0  0  0  0  0  0\n",
            "  0  0  0  0  0  0  0  0  0  0  0 -1  0  0  1  0  0  0  0  0  0  0  0  1\n",
            "  0  0  1  0  0  0  0  0  0  0  0  0  0  0  0  0  0  0  0  0  0  0  0  0\n",
            "  0  0  0  0  0  0  0  0  0  0  0  0  0  0  0  0  0  0  0  0  0  0  0  0\n",
            "  0  0  0  0  0  0  0  0  0  0  0  0  0  0  0  0  0  0  0  0  0  0  0  0\n",
            "  0  0  0  0  0  0  0  0  0  0  0  0  0  0  0  0  0  0  0  0  0  0  0  0\n",
            "  0  0  0  0  0  0  0  0  0  0  0  0  0 -1  0  0  0  0  0  0  0  0  0  0\n",
            "  0  0  0  0  0  0 -1  0  0  0  0  1  0  0  0  0  0  0  0  0  0  0  0  0\n",
            "  0  0  0  0  0  0 -1  0  0  0  0  0  0  0  0  0  0  0  0  0  0  0  0  0\n",
            "  0  0  0  0  0  0  0  0  0  0  0  0  0  0  0  0  0  0  0  0  0  0  0  0\n",
            "  0  0  0  0  0  0  0  0  0  0  0  0  0  0  0  0  0  0  0  0  0  0  0  0\n",
            "  0  0  0  0  0  0  0  0  0  0  0  0  0  0  0  0  0  0  0  0  0  0  0  0\n",
            "  0  0  0  0  0  0  0  0  0  0  0  0  0  0  0  0  0  0  0  0  0  0  0  0\n",
            "  0  0  0  0  0  0  0  0  0  0  0  0  0  0  0  0  0  1  0  0  0  0  0  0\n",
            "  0  0  0  0  0  0  0  0  0  0  0  0  0  0  0  0  0  0  0  0  0  0  0  0\n",
            "  0  0  0  0  0  0  0  0  0 -1  0  0  0  0  0  0  0 -1  0  0  0  0  0  0\n",
            "  0  0  0  0  0  0  0  0  0  0  0  0  1  0  0  0  0  0  0  0  0  0  0  0\n",
            "  0  0  0  0  0  0  0  0  0  0  0  0  0  0  0  0  0  0 -1  0  0  0  0  0\n",
            "  0  0  0  0  0 -1  0  0  0  0  0  0  0  0  0  0  0  0  0  0  0  0  1  0\n",
            "  0  0  0  0  0  0  0  0  0  0  0  0  0  0  0  0  0  0  0  0  0  0  0  0\n",
            "  0  0  0  0  0 -1  0  0  0  0  0  0  0  0  0  0  0  0  0  0  1  0  0  0\n",
            "  0  1  0  0  0  0  0  0  0  0  0  0  0  0  0  0  0  0  0  0 -1  0  0  0\n",
            "  0  0  0  0 -1  0  0  0  0  0  0  0  0  0  0  0  0  0  0  0  0  1  0  0\n",
            "  0  0  0  0  0  0  0  0  0  0  0  0  0  0  0  0  0  0  0  0  0  0  0  0\n",
            "  0  0  1  0  0  0  0  0  0  0  0  0  0  0  0  0  0  0  0  0  0  0  0  0\n",
            "  0  0  0  0  0  0  0  0  0  0  0  0  0  0  0  0  0  0  0  0  0  0  0  0\n",
            "  0  0  0  0  0  0  0  0  0  0  0  0  0  0  0 -1  0  0  0  0  0  0  0  0\n",
            "  0  0  0  0  0  0  0  0  0  0  0  0  0  0  0  0  0  0  0  0  0  0  0  0\n",
            "  0  0  0  0  0  0  0  0  0  0  0  0  0  0  0  0  0  0  0  0  0  0  0  0\n",
            "  0  1  0  0  0  0  0  0  0  0  0  0  0  0  0  0  0  0  0  0  0  0  0  0\n",
            "  0  0  0  0  0  0  0  0  0  0  0  0  0  0  0  0  0  0  0  0  0  0  0  0\n",
            "  0  0  0  0  0  0  0  0  0  0  0  0  0  0  0  0  0  0  0  0  0  0  0  0\n",
            "  0  0  0  0  0  0  0  0  0  0  1  0  0  0  0  0  0  0  0  0  0  0  0  0\n",
            "  1  0  0  0  0  0  0  0 -1  0  0  0  0  0 -1 -1  0  0  0  0  0  0  0  0\n",
            "  0  0 -1  0  0  0  0  0  0  0  0  0  0  0  0  1  0  0  0  0 -1  0  0 -1\n",
            "  1  0  0  0  0  1  0  0  0  0  0  0  0  0  0  0  0  0  0  0  0  0  0  0\n",
            "  0  0  0  0  0  0  0  0  0  0  0  0  0  0  0  0  0  0  0  0  0  0  0  0\n",
            "  0  0  0  0  0  0  0  0  0  0  0  0  0  0  0  0  0  0  0  0  0  0  0  0\n",
            "  0  0  0  0  0  0  0  0  0  0  0  0  0  0  0  0  0  0  0  0  0  0 -1  0\n",
            "  0  0  0  0  0  0  0  0  0  0  0  0  0  0  0  0]\n"
          ]
        }
      ]
    },
    {
      "cell_type": "markdown",
      "source": [
        "#6) Métricas de Análise\n",
        "\n"
      ],
      "metadata": {
        "id": "ToZTm_DRVq5_"
      }
    },
    {
      "cell_type": "markdown",
      "source": [
        "##6.1) *Confusion Matrix*"
      ],
      "metadata": {
        "id": "gi8yEOf-ns_7"
      }
    },
    {
      "cell_type": "markdown",
      "source": [
        "\n",
        "\n",
        "Por último, precisamos **mensurar** o nível de desempenho do algoritmo. Para o caso de algoritmos de classificação binária, é conveniente definir as seguintes quantidades:\n",
        "\n",
        "- **Verdadeiros Positivos (TP)**: Valores da classe 1 preditos de forma correta;\n",
        "- **Verdadeiros Negativos (TN)**:Valores da classe 0 preditos de forma correta;\n",
        "- **Falsos Positivos (FP)**: Valores da classe 0 preditos como sendo da classe 1;\n",
        "- **Falsos Negativos (FN)**:Valores da classe 1 preditos como sendo da classe 0.\n",
        "\n",
        "A soma de todos estes conjuntos deve ser igual ao número total de pontos utilizados no grupo de teste.\n",
        "\n",
        "Estes valores costumam ser representados na forma de uma matriz, chamada de **matriz de confusão** ou **matriz de erro** (*confusion matrix*):\n",
        "\n",
        "\n"
      ],
      "metadata": {
        "id": "lmThDk1_lT0p"
      }
    },
    {
      "cell_type": "markdown",
      "source": [
        "![image.png](data:image/png;base64,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)"
      ],
      "metadata": {
        "id": "wUTe1CAAkIAo"
      }
    },
    {
      "cell_type": "code",
      "source": [
        "#Construindo a matriz de confusão\n",
        "from sklearn.metrics import confusion_matrix\n",
        "from sklearn.metrics import ConfusionMatrixDisplay #Pacote para visualização da cm\n",
        "\n",
        "cm = confusion_matrix(y_test, predictions) #matriz gerada com base nos valores reais (y_test) e nos previstos (predictions)\n",
        "print(cm)\n",
        "\n",
        "#plotando a confusion matrix de maneira visualmente mais agradável!\n",
        "ConfusionMatrixDisplay(cm).plot(cmap='Blues');\n"
      ],
      "metadata": {
        "colab": {
          "base_uri": "https://localhost:8080/",
          "height": 486
        },
        "id": "W4z6gCAm5MyK",
        "outputId": "9f40287b-b853-4aa0-ca3e-5f868a9dccb6"
      },
      "execution_count": null,
      "outputs": [
        {
          "output_type": "stream",
          "name": "stdout",
          "text": [
            "[[411  19]\n",
            " [ 21 549]]\n"
          ]
        },
        {
          "output_type": "display_data",
          "data": {
            "text/plain": [
              "<Figure size 640x480 with 2 Axes>"
            ],
            "image/png": "[encoded data removed]"
          },
          "metadata": {}
        }
      ]
    },
    {
      "cell_type": "markdown",
      "source": [
        "##6.2) Acurária"
      ],
      "metadata": {
        "id": "ClLmlnv-n1kp"
      }
    },
    {
      "cell_type": "markdown",
      "source": [
        "Com base nos valores utilizados na *confusion matrix*, podemos definir diversas métricas quantitativas para avaliar o desempenho do algoritmo.\n",
        "\n",
        "\n",
        "Uma lista com diveras métricas possíveis de serem avaliadas pode ser encontrada aqui https://en.wikipedia.org/wiki/Template:Diagnostic_testing_diagram\n",
        "\n",
        "\n",
        "Por enquanto, vamos focar em algumas das mais importantes, a começar pela *acurácia*:\n",
        "\n",
        "**Acurácia**: Razão entre a quantidade total de amostras classificadas corretamente e a quantidade total de amostras\n",
        "\n",
        "Acurácia = $\\dfrac{[TP] + [TN]}{[TP] + [TN] + [FP] + [FN]}$\n"
      ],
      "metadata": {
        "id": "VMCagFIZOWGi"
      }
    },
    {
      "cell_type": "code",
      "source": [
        "#Cálculando a acurácia usando a função accuracy_score\n",
        "from sklearn.metrics import accuracy_score\n",
        "acc = accuracy_score(y_test, predictions)\n",
        "print(acc)"
      ],
      "metadata": {
        "colab": {
          "base_uri": "https://localhost:8080/"
        },
        "id": "Oidy7WpnOsYx",
        "outputId": "82eacf8c-56e8-4351-bba6-822072b36ae9"
      },
      "execution_count": null,
      "outputs": [
        {
          "output_type": "stream",
          "name": "stdout",
          "text": [
            "0.96\n"
          ]
        }
      ]
    },
    {
      "cell_type": "markdown",
      "source": [
        "##6.3) Precisão e Recall"
      ],
      "metadata": {
        "id": "66veJsB_S5hu"
      }
    },
    {
      "cell_type": "markdown",
      "source": [
        "A acurácia é uma métrica global de análise, ela não diferencia o tipo de erro de classificação.\n",
        "\n",
        "Em muitas situações, é fundamental garantir que a taxa de falsos positivos ou falsos negativos seja minimizada.\n",
        "\n",
        "Exemplo dos cogumelos:\n",
        "\n",
        "*Falso positivo*: cogumelo comestível previsto como tóxico\n",
        "\n",
        "*Falso negativo*: cogumelo tóxico previsto como comestível\n",
        "\n",
        "\n",
        "Existem métricas que diferenciam o tipo de erro, por exemplo, a precisão, recall e especificidade:\n",
        "\n",
        "\n",
        "\n",
        "---\n",
        "\n",
        "\n",
        "\n",
        "**Precisão:** Habilidade do algoritmo não classificar como positivo uma amostra que na verdade é negativa (fração de positivos que de fato são positivos):\n",
        "\n",
        "Precisão = $\\dfrac{[TP]}{[TP] + [FP]}$\n",
        "\n",
        "Importante quando FALSO POSITIVO é muito prejudicial.\n",
        "\n",
        "---\n",
        "\n",
        "\n",
        "\n",
        "**Recall** (revocação ou sensitividade): Habilidade de classificar corretamente uma amostra positiva (fração de positivos classificados corretamente):\n",
        "\n",
        "Recall = $\\dfrac{[TP]}{[TP] + [FN]}$\n",
        "\n",
        "Importante quando um FALSO NEGATIVO pode gerar consequências graves.\n",
        "\n",
        "\n",
        "---\n",
        "\n",
        "\n",
        "**Especificidade**: Capacidade de identificar corretamente os casos negativos (fração de negativos que de fato são negativos):\n",
        "\n",
        "\n",
        "Especificidade = $\\dfrac{[TN]}{[TN] + [FP]}$\n",
        "\n",
        "Importante quando o custo de um FALSO POSITIVO é alto.\n"
      ],
      "metadata": {
        "id": "qEPyqBZwUc7p"
      }
    },
    {
      "cell_type": "code",
      "source": [
        "#Calculando a precisão e o recall para as amostras\n",
        "from sklearn.metrics import precision_score\n",
        "from sklearn.metrics import recall_score\n",
        "prc = precision_score(y_test, predictions)\n",
        "rec = recall_score(y_test, predictions)\n",
        "print('precision =' ,prc, 'recall = ', rec)\n"
      ],
      "metadata": {
        "colab": {
          "base_uri": "https://localhost:8080/"
        },
        "id": "FlgnMP5LU4Yt",
        "outputId": "5b3bca87-ad31-4307-cb52-3bf76a9c5a88"
      },
      "execution_count": null,
      "outputs": [
        {
          "output_type": "stream",
          "name": "stdout",
          "text": [
            "precision = 0.9665492957746479 recall =  0.9631578947368421\n"
          ]
        }
      ]
    },
    {
      "cell_type": "markdown",
      "source": [
        "##6.4) F-beta score\n",
        "\n",
        "\n"
      ],
      "metadata": {
        "id": "8msVnbDQYQn6"
      }
    },
    {
      "cell_type": "markdown",
      "source": [
        "\n",
        "Precisão e recall são úteis quando existe uma clara distinção entre qual tipo de erro é pior. Em muitos casos, podemos fazer uma *média* entre essas duas quantidades.\n",
        "\n",
        "Entre as médias mais utilizadas está o F-beta, que representa uma média harmônica entre precisão e recall, calculado como:\n",
        "\n",
        "$$\n",
        "F_\\beta = \\frac{(1+\\beta^2)[TP]}{(1+\\beta^2)[TP] + [FP] + \\beta^2[FN]}\n",
        "$$\n",
        "\n",
        "O parâmetro β representa a razão entre a importância do recall em relação à precisão (ex, β=2 faz com que o recall tenha um peso duas vezes maior que a precisão, β=0.1 faz a precisão com um peso 10 vezes maior que o recall).\n"
      ],
      "metadata": {
        "id": "NXfq9MeTf9_g"
      }
    },
    {
      "cell_type": "code",
      "source": [
        "#Calculando o parâmetro f-beta\n",
        "from sklearn.metrics import fbeta_score\n",
        "fbeta = fbeta_score(y_test, predictions, beta=2) #beta=1, também chamado de f1-score\n",
        "print(fbeta)"
      ],
      "metadata": {
        "colab": {
          "base_uri": "https://localhost:8080/"
        },
        "id": "nMbSpfIjfguD",
        "outputId": "704aabe9-2970-4814-a8b9-cacc11589ab1"
      },
      "execution_count": null,
      "outputs": [
        {
          "output_type": "stream",
          "name": "stdout",
          "text": [
            "0.9638342696629213\n"
          ]
        }
      ]
    },
    {
      "cell_type": "markdown",
      "source": [
        "#7) Classificação multiclasse"
      ],
      "metadata": {
        "id": "f38RwcdmkN6r"
      }
    },
    {
      "cell_type": "markdown",
      "source": [
        "No exemplo anterior, os dados foram classificados somente em duas classes (0 ou 1). Porém, podemos ter casos onde as amostras podem pertencer a mais de duas classes.\n",
        "\n",
        "As etapas para aplicação do algoritmo de classificação são iguais ao utilizando anteriormente para o caso binário.\n",
        "\n",
        "Alguns algoritmos de classificação naturalmente suportam múltiplas classes, enquanto outros podem ser utilizados para multiclasse empregando estratégias de transformação em uma série de classificações binárias, sendo as mais comuns:\n",
        "\n",
        "\n",
        "\n",
        "---\n",
        "\n",
        "\n",
        "\n",
        "**One-vs-rest**:  um classificador é treinado para cada classe, tratada como a 'positiva', sendo todas as demais tratadas como 'negativa'. Para ilustrar, suponha um caso com quatro classes: cl1, cl2, cl3 e cl4. As classificações binárias realizada seriam:\n",
        "\n",
        "Classificação 1: cl1 vs (cl2, cl3 e cl4)\n",
        "\n",
        "Classificação 2: cl2 vs (cl1, cl3 e cl4)\n",
        "\n",
        "Classificação 3: cl3 vs (cl1, cl2 e cl4)\n",
        "\n",
        "Classificação 4: cl4 vs (cl1, cl2 e cl3)\n",
        "\n",
        "---\n",
        "\n",
        "\n",
        "**One-vs-one**: O conjunto de dados é dividido em subconjuntos contendo amostras de somente duas classes. O algoritmo é então treinado para cada um desses subconjuntos. Supondo o mesmo exemplo anterior, teríamos as seguintes classificações binárias:\n",
        "\n",
        "Classificação 1: cl1 vs cl2\n",
        "\n",
        "Classificação 2: cl1 vs cl3\n",
        "\n",
        "Classificação 3: cl1 vs cl4\n",
        "\n",
        "Classificação 4: cl2 vs cl3\n",
        "\n",
        "Classificação 5: cl2 vs cl4\n",
        "\n",
        "Classificação 6: cl3 vs cl4\n",
        "\n",
        "\n",
        "\n",
        "---\n",
        "\n",
        "\n",
        "Veja https://scikit-learn.org/stable/modules/multiclass.html para uma lista dos algoritmos que suportam cada abordagem!\n",
        "\n",
        "Considere um exemplo onde amostras de vinho são classificada em uma escada de qualidade indo de 3 até 8, de acordo com 11 parâmetros físico-químicos."
      ],
      "metadata": {
        "id": "87mgoaUBXk-q"
      }
    },
    {
      "cell_type": "code",
      "source": [
        "url_multi = 'https://drive.google.com/uc?id=1IzflRz_Jr3GPo7uxt2epwfdg1jzRKKpz' #link para o arquivo de dados no Google Drive\n",
        "#https://www.kaggle.com/datasets/yasserh/wine-quality-dataset\n",
        "\n",
        "df_multi = pd.read_csv(url_multi) #Lendo o arquivo com dados e alocando na variável 'df' (DataFrame)\n",
        "df_multi.head(10) #Imprime as primeiras linhas\n"
      ],
      "metadata": {
        "colab": {
          "base_uri": "https://localhost:8080/",
          "height": 417
        },
        "collapsed": true,
        "id": "klVCNlfjZZ77",
        "outputId": "d6f0ad95-3eaa-49be-905e-274a0f8f1d68"
      },
      "execution_count": null,
      "outputs": [
        {
          "output_type": "execute_result",
          "data": {
            "text/plain": [
              "   fixed acidity  volatile acidity  citric acid  residual sugar  chlorides  \\\n",
              "0            7.4              0.70         0.00             1.9      0.076   \n",
              "1            7.8              0.88         0.00             2.6      0.098   \n",
              "2            7.8              0.76         0.04             2.3      0.092   \n",
              "3           11.2              0.28         0.56             1.9      0.075   \n",
              "4            7.4              0.70         0.00             1.9      0.076   \n",
              "5            7.4              0.66         0.00             1.8      0.075   \n",
              "6            7.9              0.60         0.06             1.6      0.069   \n",
              "7            7.3              0.65         0.00             1.2      0.065   \n",
              "8            7.8              0.58         0.02             2.0      0.073   \n",
              "9            6.7              0.58         0.08             1.8      0.097   \n",
              "\n",
              "   free sulfur dioxide  total sulfur dioxide  density    pH  sulphates  \\\n",
              "0                 11.0                  34.0   0.9978  3.51       0.56   \n",
              "1                 25.0                  67.0   0.9968  3.20       0.68   \n",
              "2                 15.0                  54.0   0.9970  3.26       0.65   \n",
              "3                 17.0                  60.0   0.9980  3.16       0.58   \n",
              "4                 11.0                  34.0   0.9978  3.51       0.56   \n",
              "5                 13.0                  40.0   0.9978  3.51       0.56   \n",
              "6                 15.0                  59.0   0.9964  3.30       0.46   \n",
              "7                 15.0                  21.0   0.9946  3.39       0.47   \n",
              "8                  9.0                  18.0   0.9968  3.36       0.57   \n",
              "9                 15.0                  65.0   0.9959  3.28       0.54   \n",
              "\n",
              "   alcohol  quality  Id  \n",
              "0      9.4        5   0  \n",
              "1      9.8        5   1  \n",
              "2      9.8        5   2  \n",
              "3      9.8        6   3  \n",
              "4      9.4        5   4  \n",
              "5      9.4        5   5  \n",
              "6      9.4        5   6  \n",
              "7     10.0        7   7  \n",
              "8      9.5        7   8  \n",
              "9      9.2        5  10  "
            ],
            "text/html": [
              "\n",
              "  <div id=\"df-1ff13b04-95a8-4e93-a834-71a4b9374c5e\" class=\"colab-df-container\">\n",
              "    <div>\n",
              "<style scoped>\n",
              "    .dataframe tbody tr th:only-of-type {\n",
              "        vertical-align: middle;\n",
              "    }\n",
              "\n",
              "    .dataframe tbody tr th {\n",
              "        vertical-align: top;\n",
              "    }\n",
              "\n",
              "    .dataframe thead th {\n",
              "        text-align: right;\n",
              "    }\n",
              "</style>\n",
              "<table border=\"1\" class=\"dataframe\">\n",
              "  <thead>\n",
              "    <tr style=\"text-align: right;\">\n",
              "      <th></th>\n",
              "      <th>fixed acidity</th>\n",
              "      <th>volatile acidity</th>\n",
              "      <th>citric acid</th>\n",
              "      <th>residual sugar</th>\n",
              "      <th>chlorides</th>\n",
              "      <th>free sulfur dioxide</th>\n",
              "      <th>total sulfur dioxide</th>\n",
              "      <th>density</th>\n",
              "      <th>pH</th>\n",
              "      <th>sulphates</th>\n",
              "      <th>alcohol</th>\n",
              "      <th>quality</th>\n",
              "      <th>Id</th>\n",
              "    </tr>\n",
              "  </thead>\n",
              "  <tbody>\n",
              "    <tr>\n",
              "      <th>0</th>\n",
              "      <td>7.4</td>\n",
              "      <td>0.70</td>\n",
              "      <td>0.00</td>\n",
              "      <td>1.9</td>\n",
              "      <td>0.076</td>\n",
              "      <td>11.0</td>\n",
              "      <td>34.0</td>\n",
              "      <td>0.9978</td>\n",
              "      <td>3.51</td>\n",
              "      <td>0.56</td>\n",
              "      <td>9.4</td>\n",
              "      <td>5</td>\n",
              "      <td>0</td>\n",
              "    </tr>\n",
              "    <tr>\n",
              "      <th>1</th>\n",
              "      <td>7.8</td>\n",
              "      <td>0.88</td>\n",
              "      <td>0.00</td>\n",
              "      <td>2.6</td>\n",
              "      <td>0.098</td>\n",
              "      <td>25.0</td>\n",
              "      <td>67.0</td>\n",
              "      <td>0.9968</td>\n",
              "      <td>3.20</td>\n",
              "      <td>0.68</td>\n",
              "      <td>9.8</td>\n",
              "      <td>5</td>\n",
              "      <td>1</td>\n",
              "    </tr>\n",
              "    <tr>\n",
              "      <th>2</th>\n",
              "      <td>7.8</td>\n",
              "      <td>0.76</td>\n",
              "      <td>0.04</td>\n",
              "      <td>2.3</td>\n",
              "      <td>0.092</td>\n",
              "      <td>15.0</td>\n",
              "      <td>54.0</td>\n",
              "      <td>0.9970</td>\n",
              "      <td>3.26</td>\n",
              "      <td>0.65</td>\n",
              "      <td>9.8</td>\n",
              "      <td>5</td>\n",
              "      <td>2</td>\n",
              "    </tr>\n",
              "    <tr>\n",
              "      <th>3</th>\n",
              "      <td>11.2</td>\n",
              "      <td>0.28</td>\n",
              "      <td>0.56</td>\n",
              "      <td>1.9</td>\n",
              "      <td>0.075</td>\n",
              "      <td>17.0</td>\n",
              "      <td>60.0</td>\n",
              "      <td>0.9980</td>\n",
              "      <td>3.16</td>\n",
              "      <td>0.58</td>\n",
              "      <td>9.8</td>\n",
              "      <td>6</td>\n",
              "      <td>3</td>\n",
              "    </tr>\n",
              "    <tr>\n",
              "      <th>4</th>\n",
              "      <td>7.4</td>\n",
              "      <td>0.70</td>\n",
              "      <td>0.00</td>\n",
              "      <td>1.9</td>\n",
              "      <td>0.076</td>\n",
              "      <td>11.0</td>\n",
              "      <td>34.0</td>\n",
              "      <td>0.9978</td>\n",
              "      <td>3.51</td>\n",
              "      <td>0.56</td>\n",
              "      <td>9.4</td>\n",
              "      <td>5</td>\n",
              "      <td>4</td>\n",
              "    </tr>\n",
              "    <tr>\n",
              "      <th>5</th>\n",
              "      <td>7.4</td>\n",
              "      <td>0.66</td>\n",
              "      <td>0.00</td>\n",
              "      <td>1.8</td>\n",
              "      <td>0.075</td>\n",
              "      <td>13.0</td>\n",
              "      <td>40.0</td>\n",
              "      <td>0.9978</td>\n",
              "      <td>3.51</td>\n",
              "      <td>0.56</td>\n",
              "      <td>9.4</td>\n",
              "      <td>5</td>\n",
              "      <td>5</td>\n",
              "    </tr>\n",
              "    <tr>\n",
              "      <th>6</th>\n",
              "      <td>7.9</td>\n",
              "      <td>0.60</td>\n",
              "      <td>0.06</td>\n",
              "      <td>1.6</td>\n",
              "      <td>0.069</td>\n",
              "      <td>15.0</td>\n",
              "      <td>59.0</td>\n",
              "      <td>0.9964</td>\n",
              "      <td>3.30</td>\n",
              "      <td>0.46</td>\n",
              "      <td>9.4</td>\n",
              "      <td>5</td>\n",
              "      <td>6</td>\n",
              "    </tr>\n",
              "    <tr>\n",
              "      <th>7</th>\n",
              "      <td>7.3</td>\n",
              "      <td>0.65</td>\n",
              "      <td>0.00</td>\n",
              "      <td>1.2</td>\n",
              "      <td>0.065</td>\n",
              "      <td>15.0</td>\n",
              "      <td>21.0</td>\n",
              "      <td>0.9946</td>\n",
              "      <td>3.39</td>\n",
              "      <td>0.47</td>\n",
              "      <td>10.0</td>\n",
              "      <td>7</td>\n",
              "      <td>7</td>\n",
              "    </tr>\n",
              "    <tr>\n",
              "      <th>8</th>\n",
              "      <td>7.8</td>\n",
              "      <td>0.58</td>\n",
              "      <td>0.02</td>\n",
              "      <td>2.0</td>\n",
              "      <td>0.073</td>\n",
              "      <td>9.0</td>\n",
              "      <td>18.0</td>\n",
              "      <td>0.9968</td>\n",
              "      <td>3.36</td>\n",
              "      <td>0.57</td>\n",
              "      <td>9.5</td>\n",
              "      <td>7</td>\n",
              "      <td>8</td>\n",
              "    </tr>\n",
              "    <tr>\n",
              "      <th>9</th>\n",
              "      <td>6.7</td>\n",
              "      <td>0.58</td>\n",
              "      <td>0.08</td>\n",
              "      <td>1.8</td>\n",
              "      <td>0.097</td>\n",
              "      <td>15.0</td>\n",
              "      <td>65.0</td>\n",
              "      <td>0.9959</td>\n",
              "      <td>3.28</td>\n",
              "      <td>0.54</td>\n",
              "      <td>9.2</td>\n",
              "      <td>5</td>\n",
              "      <td>10</td>\n",
              "    </tr>\n",
              "  </tbody>\n",
              "</table>\n",
              "</div>\n",
              "    <div class=\"colab-df-buttons\">\n",
              "\n",
              "  <div class=\"colab-df-container\">\n",
              "    <button class=\"colab-df-convert\" onclick=\"convertToInteractive('df-1ff13b04-95a8-4e93-a834-71a4b9374c5e')\"\n",
              "            title=\"Convert this dataframe to an interactive table.\"\n",
              "            style=\"display:none;\">\n",
              "\n",
              "  <svg xmlns=\"http://www.w3.org/2000/svg\" height=\"24px\" viewBox=\"0 -960 960 960\">\n",
              "    <path d=\"M120-120v-720h720v720H120Zm60-500h600v-160H180v160Zm220 220h160v-160H400v160Zm0 220h160v-160H400v160ZM180-400h160v-160H180v160Zm440 0h160v-160H620v160ZM180-180h160v-160H180v160Zm440 0h160v-160H620v160Z\"/>\n",
              "  </svg>\n",
              "    </button>\n",
              "\n",
              "  <style>\n",
              "    .colab-df-container {\n",
              "      display:flex;\n",
              "      gap: 12px;\n",
              "    }\n",
              "\n",
              "    .colab-df-convert {\n",
              "      background-color: #E8F0FE;\n",
              "      border: none;\n",
              "      border-radius: 50%;\n",
              "      cursor: pointer;\n",
              "      display: none;\n",
              "      fill: #1967D2;\n",
              "      height: 32px;\n",
              "      padding: 0 0 0 0;\n",
              "      width: 32px;\n",
              "    }\n",
              "\n",
              "    .colab-df-convert:hover {\n",
              "      background-color: #E2EBFA;\n",
              "      box-shadow: 0px 1px 2px rgba(60, 64, 67, 0.3), 0px 1px 3px 1px rgba(60, 64, 67, 0.15);\n",
              "      fill: #174EA6;\n",
              "    }\n",
              "\n",
              "    .colab-df-buttons div {\n",
              "      margin-bottom: 4px;\n",
              "    }\n",
              "\n",
              "    [theme=dark] .colab-df-convert {\n",
              "      background-color: #3B4455;\n",
              "      fill: #D2E3FC;\n",
              "    }\n",
              "\n",
              "    [theme=dark] .colab-df-convert:hover {\n",
              "      background-color: #434B5C;\n",
              "      box-shadow: 0px 1px 3px 1px rgba(0, 0, 0, 0.15);\n",
              "      filter: drop-shadow(0px 1px 2px rgba(0, 0, 0, 0.3));\n",
              "      fill: #FFFFFF;\n",
              "    }\n",
              "  </style>\n",
              "\n",
              "    <script>\n",
              "      const buttonEl =\n",
              "        document.querySelector('#df-1ff13b04-95a8-4e93-a834-71a4b9374c5e button.colab-df-convert');\n",
              "      buttonEl.style.display =\n",
              "        google.colab.kernel.accessAllowed ? 'block' : 'none';\n",
              "\n",
              "      async function convertToInteractive(key) {\n",
              "        const element = document.querySelector('#df-1ff13b04-95a8-4e93-a834-71a4b9374c5e');\n",
              "        const dataTable =\n",
              "          await google.colab.kernel.invokeFunction('convertToInteractive',\n",
              "                                                    [key], {});\n",
              "        if (!dataTable) return;\n",
              "\n",
              "        const docLinkHtml = 'Like what you see? Visit the ' +\n",
              "          '<a target=\"_blank\" href=https://colab.research.google.com/notebooks/data_table.ipynb>data table notebook</a>'\n",
              "          + ' to learn more about interactive tables.';\n",
              "        element.innerHTML = '';\n",
              "        dataTable['output_type'] = 'display_data';\n",
              "        await google.colab.output.renderOutput(dataTable, element);\n",
              "        const docLink = document.createElement('div');\n",
              "        docLink.innerHTML = docLinkHtml;\n",
              "        element.appendChild(docLink);\n",
              "      }\n",
              "    </script>\n",
              "  </div>\n",
              "\n",
              "\n",
              "    <div id=\"df-ee3a2cad-ebc3-4755-b648-60ede80fb809\">\n",
              "      <button class=\"colab-df-quickchart\" onclick=\"quickchart('df-ee3a2cad-ebc3-4755-b648-60ede80fb809')\"\n",
              "                title=\"Suggest charts\"\n",
              "                style=\"display:none;\">\n",
              "\n",
              "<svg xmlns=\"http://www.w3.org/2000/svg\" height=\"24px\"viewBox=\"0 0 24 24\"\n",
              "     width=\"24px\">\n",
              "    <g>\n",
              "        <path d=\"M19 3H5c-1.1 0-2 .9-2 2v14c0 1.1.9 2 2 2h14c1.1 0 2-.9 2-2V5c0-1.1-.9-2-2-2zM9 17H7v-7h2v7zm4 0h-2V7h2v10zm4 0h-2v-4h2v4z\"/>\n",
              "    </g>\n",
              "</svg>\n",
              "      </button>\n",
              "\n",
              "<style>\n",
              "  .colab-df-quickchart {\n",
              "      --bg-color: #E8F0FE;\n",
              "      --fill-color: #1967D2;\n",
              "      --hover-bg-color: #E2EBFA;\n",
              "      --hover-fill-color: #174EA6;\n",
              "      --disabled-fill-color: #AAA;\n",
              "      --disabled-bg-color: #DDD;\n",
              "  }\n",
              "\n",
              "  [theme=dark] .colab-df-quickchart {\n",
              "      --bg-color: #3B4455;\n",
              "      --fill-color: #D2E3FC;\n",
              "      --hover-bg-color: #434B5C;\n",
              "      --hover-fill-color: #FFFFFF;\n",
              "      --disabled-bg-color: #3B4455;\n",
              "      --disabled-fill-color: #666;\n",
              "  }\n",
              "\n",
              "  .colab-df-quickchart {\n",
              "    background-color: var(--bg-color);\n",
              "    border: none;\n",
              "    border-radius: 50%;\n",
              "    cursor: pointer;\n",
              "    display: none;\n",
              "    fill: var(--fill-color);\n",
              "    height: 32px;\n",
              "    padding: 0;\n",
              "    width: 32px;\n",
              "  }\n",
              "\n",
              "  .colab-df-quickchart:hover {\n",
              "    background-color: var(--hover-bg-color);\n",
              "    box-shadow: 0 1px 2px rgba(60, 64, 67, 0.3), 0 1px 3px 1px rgba(60, 64, 67, 0.15);\n",
              "    fill: var(--button-hover-fill-color);\n",
              "  }\n",
              "\n",
              "  .colab-df-quickchart-complete:disabled,\n",
              "  .colab-df-quickchart-complete:disabled:hover {\n",
              "    background-color: var(--disabled-bg-color);\n",
              "    fill: var(--disabled-fill-color);\n",
              "    box-shadow: none;\n",
              "  }\n",
              "\n",
              "  .colab-df-spinner {\n",
              "    border: 2px solid var(--fill-color);\n",
              "    border-color: transparent;\n",
              "    border-bottom-color: var(--fill-color);\n",
              "    animation:\n",
              "      spin 1s steps(1) infinite;\n",
              "  }\n",
              "\n",
              "  @keyframes spin {\n",
              "    0% {\n",
              "      border-color: transparent;\n",
              "      border-bottom-color: var(--fill-color);\n",
              "      border-left-color: var(--fill-color);\n",
              "    }\n",
              "    20% {\n",
              "      border-color: transparent;\n",
              "      border-left-color: var(--fill-color);\n",
              "      border-top-color: var(--fill-color);\n",
              "    }\n",
              "    30% {\n",
              "      border-color: transparent;\n",
              "      border-left-color: var(--fill-color);\n",
              "      border-top-color: var(--fill-color);\n",
              "      border-right-color: var(--fill-color);\n",
              "    }\n",
              "    40% {\n",
              "      border-color: transparent;\n",
              "      border-right-color: var(--fill-color);\n",
              "      border-top-color: var(--fill-color);\n",
              "    }\n",
              "    60% {\n",
              "      border-color: transparent;\n",
              "      border-right-color: var(--fill-color);\n",
              "    }\n",
              "    80% {\n",
              "      border-color: transparent;\n",
              "      border-right-color: var(--fill-color);\n",
              "      border-bottom-color: var(--fill-color);\n",
              "    }\n",
              "    90% {\n",
              "      border-color: transparent;\n",
              "      border-bottom-color: var(--fill-color);\n",
              "    }\n",
              "  }\n",
              "</style>\n",
              "\n",
              "      <script>\n",
              "        async function quickchart(key) {\n",
              "          const quickchartButtonEl =\n",
              "            document.querySelector('#' + key + ' button');\n",
              "          quickchartButtonEl.disabled = true;  // To prevent multiple clicks.\n",
              "          quickchartButtonEl.classList.add('colab-df-spinner');\n",
              "          try {\n",
              "            const charts = await google.colab.kernel.invokeFunction(\n",
              "                'suggestCharts', [key], {});\n",
              "          } catch (error) {\n",
              "            console.error('Error during call to suggestCharts:', error);\n",
              "          }\n",
              "          quickchartButtonEl.classList.remove('colab-df-spinner');\n",
              "          quickchartButtonEl.classList.add('colab-df-quickchart-complete');\n",
              "        }\n",
              "        (() => {\n",
              "          let quickchartButtonEl =\n",
              "            document.querySelector('#df-ee3a2cad-ebc3-4755-b648-60ede80fb809 button');\n",
              "          quickchartButtonEl.style.display =\n",
              "            google.colab.kernel.accessAllowed ? 'block' : 'none';\n",
              "        })();\n",
              "      </script>\n",
              "    </div>\n",
              "\n",
              "    </div>\n",
              "  </div>\n"
            ],
            "application/vnd.google.colaboratory.intrinsic+json": {
              "type": "dataframe",
              "variable_name": "df_multi",
              "summary": "{\n  \"name\": \"df_multi\",\n  \"rows\": 1143,\n  \"fields\": [\n    {\n      \"column\": \"fixed acidity\",\n      \"properties\": {\n        \"dtype\": \"number\",\n        \"std\": 1.747595017169539,\n        \"min\": 4.6,\n        \"max\": 15.9,\n        \"num_unique_values\": 91,\n        \"samples\": [\n          9.7,\n          7.0,\n          9.0\n        ],\n        \"semantic_type\": \"\",\n        \"description\": \"\"\n      }\n    },\n    {\n      \"column\": \"volatile acidity\",\n      \"properties\": {\n        \"dtype\": \"number\",\n        \"std\": 0.17963319302252445,\n        \"min\": 0.12,\n        \"max\": 1.58,\n        \"num_unique_values\": 135,\n        \"samples\": [\n          0.715,\n          0.48,\n          0.92\n        ],\n        \"semantic_type\": \"\",\n        \"description\": \"\"\n      }\n    },\n    {\n      \"column\": \"citric acid\",\n      \"properties\": {\n        \"dtype\": \"number\",\n        \"std\": 0.1966858523482191,\n        \"min\": 0.0,\n        \"max\": 1.0,\n        \"num_unique_values\": 77,\n        \"samples\": [\n          0.02,\n          0.19,\n          0.11\n        ],\n        \"semantic_type\": \"\",\n        \"description\": \"\"\n      }\n    },\n    {\n      \"column\": \"residual sugar\",\n      \"properties\": {\n        \"dtype\": \"number\",\n        \"std\": 1.355917466682676,\n        \"min\": 0.9,\n        \"max\": 15.5,\n        \"num_unique_values\": 80,\n        \"samples\": [\n          4.0,\n          1.9,\n          7.2\n        ],\n        \"semantic_type\": \"\",\n        \"description\": \"\"\n      }\n    },\n    {\n      \"column\": \"chlorides\",\n      \"properties\": {\n        \"dtype\": \"number\",\n        \"std\": 0.04726733795238058,\n        \"min\": 0.012,\n        \"max\": 0.611,\n        \"num_unique_values\": 131,\n        \"samples\": [\n          0.061,\n          0.119,\n          0.066\n        ],\n        \"semantic_type\": \"\",\n        \"description\": \"\"\n      }\n    },\n    {\n      \"column\": \"free sulfur dioxide\",\n      \"properties\": {\n        \"dtype\": \"number\",\n        \"std\": 10.25048612343082,\n        \"min\": 1.0,\n        \"max\": 68.0,\n        \"num_unique_values\": 53,\n        \"samples\": [\n          30.0,\n          46.0,\n          40.0\n        ],\n        \"semantic_type\": \"\",\n        \"description\": \"\"\n      }\n    },\n    {\n      \"column\": \"total sulfur dioxide\",\n      \"properties\": {\n        \"dtype\": \"number\",\n        \"std\": 32.782130307343124,\n        \"min\": 6.0,\n        \"max\": 289.0,\n        \"num_unique_values\": 138,\n        \"samples\": [\n          70.0,\n          91.0,\n          71.0\n        ],\n        \"semantic_type\": \"\",\n        \"description\": \"\"\n      }\n    },\n    {\n      \"column\": \"density\",\n      \"properties\": {\n        \"dtype\": \"number\",\n        \"std\": 0.0019250671302545707,\n        \"min\": 0.99007,\n        \"max\": 1.00369,\n        \"num_unique_values\": 388,\n        \"samples\": [\n          0.99434,\n          0.9927,\n          0.99528\n        ],\n        \"semantic_type\": \"\",\n        \"description\": \"\"\n      }\n    },\n    {\n      \"column\": \"pH\",\n      \"properties\": {\n        \"dtype\": \"number\",\n        \"std\": 0.15666405977275222,\n        \"min\": 2.74,\n        \"max\": 4.01,\n        \"num_unique_values\": 87,\n        \"samples\": [\n          2.92,\n          3.51,\n          3.44\n        ],\n        \"semantic_type\": \"\",\n        \"description\": \"\"\n      }\n    },\n    {\n      \"column\": \"sulphates\",\n      \"properties\": {\n        \"dtype\": \"number\",\n        \"std\": 0.1703987144670742,\n        \"min\": 0.33,\n        \"max\": 2.0,\n        \"num_unique_values\": 89,\n        \"samples\": [\n          0.72,\n          1.61,\n          1.12\n        ],\n        \"semantic_type\": \"\",\n        \"description\": \"\"\n      }\n    },\n    {\n      \"column\": \"alcohol\",\n      \"properties\": {\n        \"dtype\": \"number\",\n        \"std\": 1.0821956098764456,\n        \"min\": 8.4,\n        \"max\": 14.9,\n        \"num_unique_values\": 61,\n        \"samples\": [\n          9.4,\n          9.9,\n          12.7\n        ],\n        \"semantic_type\": \"\",\n        \"description\": \"\"\n      }\n    },\n    {\n      \"column\": \"quality\",\n      \"properties\": {\n        \"dtype\": \"number\",\n        \"std\": 0,\n        \"min\": 3,\n        \"max\": 8,\n        \"num_unique_values\": 6,\n        \"samples\": [\n          5,\n          6,\n          3\n        ],\n        \"semantic_type\": \"\",\n        \"description\": \"\"\n      }\n    },\n    {\n      \"column\": \"Id\",\n      \"properties\": {\n        \"dtype\": \"number\",\n        \"std\": 463,\n        \"min\": 0,\n        \"max\": 1597,\n        \"num_unique_values\": 1143,\n        \"samples\": [\n          222,\n          1514,\n          417\n        ],\n        \"semantic_type\": \"\",\n        \"description\": \"\"\n      }\n    }\n  ]\n}"
            }
          },
          "metadata": {},
          "execution_count": 13
        }
      ]
    },
    {
      "cell_type": "code",
      "source": [
        "#Verificando se existem dados faltantes\n",
        "df_multi.info()"
      ],
      "metadata": {
        "colab": {
          "base_uri": "https://localhost:8080/"
        },
        "collapsed": true,
        "id": "C4yaT2VEZcbT",
        "outputId": "07a95a1c-f8b4-429b-c36e-8a9655498c84"
      },
      "execution_count": null,
      "outputs": [
        {
          "output_type": "stream",
          "name": "stdout",
          "text": [
            "<class 'pandas.core.frame.DataFrame'>\n",
            "RangeIndex: 1143 entries, 0 to 1142\n",
            "Data columns (total 13 columns):\n",
            " #   Column                Non-Null Count  Dtype  \n",
            "---  ------                --------------  -----  \n",
            " 0   fixed acidity         1143 non-null   float64\n",
            " 1   volatile acidity      1143 non-null   float64\n",
            " 2   citric acid           1143 non-null   float64\n",
            " 3   residual sugar        1143 non-null   float64\n",
            " 4   chlorides             1143 non-null   float64\n",
            " 5   free sulfur dioxide   1143 non-null   float64\n",
            " 6   total sulfur dioxide  1143 non-null   float64\n",
            " 7   density               1143 non-null   float64\n",
            " 8   pH                    1143 non-null   float64\n",
            " 9   sulphates             1143 non-null   float64\n",
            " 10  alcohol               1143 non-null   float64\n",
            " 11  quality               1143 non-null   int64  \n",
            " 12  Id                    1143 non-null   int64  \n",
            "dtypes: float64(11), int64(2)\n",
            "memory usage: 116.2 KB\n"
          ]
        }
      ]
    },
    {
      "cell_type": "code",
      "source": [
        "###Aplicando as mesmas etapas descritas anteriormente para classificação binária:\n",
        "\n",
        "#Armazendo uma matriz X_multi com todos os atributos de entrada\n",
        "X_multi = df_multi.iloc[:,0:11]\n",
        "\n",
        "#Armazendo um vetor y_multi com os rótulos de saída\n",
        "y_multi = df_multi.iloc[:,11]\n",
        "\n",
        "#Transformando os dados anteriores em variáveis do tipo \"array\" para permitir manipulação numérica\n",
        "X_multi_array = X_multi.values\n",
        "y_multi_array = y_multi.values\n",
        "\n",
        "#Normalizando os dados\n",
        "X_multi_array_norm = scaler.fit_transform(X_multi_array) #Usando a mesma escala de 0 a 1 definida previamente\n",
        "\n",
        "#Dividindo em grupo de teste e treinamento\n",
        "X_multi_train, X_multi_test, y_multi_train, y_multi_test = train_test_split(X_multi_array_norm, y_multi_array, test_size=0.3, random_state=seed)\n",
        "\n",
        "#Ajustando o modelo\n",
        "model_multi =  KNeighborsClassifier(n_neighbors = 5) #Esse algoritmo suporta naturalmente múltiplas classes\n",
        "clf_multi = model_multi.fit(X_multi_train,y_multi_train)\n",
        "\n",
        "#Calculando os valores previstos para o grupo de teste\n",
        "predictions_multi = model_multi.predict(X_multi_test)"
      ],
      "metadata": {
        "id": "as_TL_zChLF2"
      },
      "execution_count": null,
      "outputs": []
    },
    {
      "cell_type": "markdown",
      "source": [
        "##7.1) Métricas de análise para classificação multiclasse\n",
        "\n",
        "Para avaliar o desempenho do algoritmo nesse caso, precisamos rever os conceitos de \"verdadeiro/falso positivo/negativo\", já que isto só faz sentido para um caso binário.\n",
        "\n",
        "\n"
      ],
      "metadata": {
        "id": "n-OQ6RX2lFCh"
      }
    },
    {
      "cell_type": "markdown",
      "source": [
        "###7.1.1) *Confusion matrix* multiclasse\n",
        "\n",
        "Considere um caso onde existam $n$ diferentes classes. Neste caso, a matriz de confusão será uma matriz $n \\times n$, onde um elemento $a_{i,j}$ representa a quantidade de amostras da classe $i$ previstos como pertencentes à classe $j$. Por exemplo:\n",
        "\n",
        "$a_{2,2}$ = quantidade de amostras da classe 2 previstos corretamente como sendo da classe 2\n",
        "\n",
        "$a_{2,3}$ = quantidade de amostras da classe 2 previstos erroneamente como sendo da classe 3"
      ],
      "metadata": {
        "id": "yDy_vrchhHik"
      }
    },
    {
      "cell_type": "code",
      "source": [
        "#Confusion matrix para o caso multiclasse, onde existem 5 classes\n",
        "cm_multi = confusion_matrix(y_multi_test, predictions_multi) #matriz gerada com base nos valores reais (y_multi_test) e nos previstos (predictions)\n",
        "#print(cm_multi)\n",
        "\n",
        "ConfusionMatrixDisplay(cm_multi).plot(cmap='Blues');"
      ],
      "metadata": {
        "collapsed": true,
        "id": "1WOIItqwjFad",
        "colab": {
          "base_uri": "https://localhost:8080/",
          "height": 449
        },
        "outputId": "a8f2f33e-dfd7-4f35-acbb-0f2d7de072e6"
      },
      "execution_count": null,
      "outputs": [
        {
          "output_type": "display_data",
          "data": {
            "text/plain": [
              "<Figure size 640x480 with 2 Axes>"
            ],
            "image/png": "[encoded data removed]"
          },
          "metadata": {}
        }
      ]
    },
    {
      "cell_type": "markdown",
      "source": [
        "###7.1.2) Acurácia multiclasse\n",
        "\n",
        "Neste caso, a acurácia é simplesmente calculada como sendo a razão entre as amostras previstas corretamente e o total de amostras:\n",
        "\n",
        "**acurácia** = $\\dfrac{\\sum\\limits_{i=1}^n a_{i,i}}{{\\sum\\limits_{i=1}^n \\sum\\limits_{j=1}^n a_{i,j}}}$"
      ],
      "metadata": {
        "id": "wC7L3Of2jZuu"
      }
    },
    {
      "cell_type": "code",
      "source": [
        "#Cálculando a acurácia\n",
        "acc_multi = accuracy_score(y_multi_test, predictions_multi)\n",
        "print('acurácia = ', acc_multi)"
      ],
      "metadata": {
        "colab": {
          "base_uri": "https://localhost:8080/"
        },
        "id": "PHDdnOlBiQL2",
        "outputId": "1fa00075-2196-47f2-e02a-a4b2791aa432"
      },
      "execution_count": null,
      "outputs": [
        {
          "output_type": "stream",
          "name": "stdout",
          "text": [
            "acurácia =  0.5685131195335277\n"
          ]
        }
      ]
    },
    {
      "cell_type": "markdown",
      "source": [
        "###7.1.3) Precisão, Recall e F-beta\n",
        "\n",
        "Estes conceitos podem ser aplicados para cada classe individualmente.\n",
        "Por exemplo, para a classe $i=3$ teríamos:\n",
        "\n",
        "**verdadeiro positivo** = $a_{3,3}$\n",
        "\n",
        "**verdadeiro negativo** = $\\sum\\limits_{i=1 \\\\ i \\neq 3}^n a_{i,i}$ (valores de outras classes previstos corretamente)\n",
        "\n",
        "**Falso positivo** = $\\sum\\limits_{i=1 \\\\ i \\neq 3}^n a_{i,3}$ (valores de outras classes previstos como sendo da classe 3)\n",
        "\n",
        "**Falso negativo** = $\\sum\\limits_{i=1 \\\\ i \\neq 3}^n a_{3,i}$ (valores da classe 3 previstos como sendo de outras classes)\n",
        "\n",
        "Após calcular o valor para todas as classes, pode-se fazer uma média entre os valores."
      ],
      "metadata": {
        "id": "cy6My1iPkdnM"
      }
    },
    {
      "cell_type": "code",
      "source": [
        "prc_multi = precision_score(y_multi_test, predictions_multi, average='weighted')\n",
        "#average = weighted faz uma média ponderada dos valores de acordo com o número de amostras em cada classe\n",
        "rec_multi = recall_score(y_multi_test, predictions_multi, average='weighted')\n",
        "\n",
        "#Calculando precisão, recall e f-1\n",
        "from sklearn.metrics import precision_score\n",
        "from sklearn.metrics import recall_score\n",
        "from sklearn.metrics import fbeta_score\n",
        "fbeta_multi = fbeta_score(y_multi_test, predictions_multi, beta=1, average='weighted')\n",
        "print('precisão =' ,prc_multi)\n",
        "print('recall = ', rec_multi)\n",
        "print('f1-score = ',  fbeta_multi)"
      ],
      "metadata": {
        "colab": {
          "base_uri": "https://localhost:8080/"
        },
        "id": "yS4m36TskZwu",
        "outputId": "4e2416a8-bde8-43a2-a2dd-168c01ed3668"
      },
      "execution_count": null,
      "outputs": [
        {
          "output_type": "stream",
          "name": "stdout",
          "text": [
            "precisão = 0.5457477323776961\n",
            "recall =  0.5685131195335277\n",
            "f1-score =  0.5553588410370273\n"
          ]
        }
      ]
    }
  ]
}